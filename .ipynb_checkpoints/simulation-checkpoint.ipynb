{
 "cells": [
  {
   "cell_type": "code",
   "execution_count": 1,
   "metadata": {
    "collapsed": false
   },
   "outputs": [],
   "source": [
    "using Distributions\n",
    "using Roots"
   ]
  },
  {
   "cell_type": "code",
   "execution_count": 48,
   "metadata": {
    "collapsed": false
   },
   "outputs": [],
   "source": [
    "N = 10000\n",
    "R = 100\n",
    "S = N * R\n",
    "T = 100\n",
    "# 大切なのはNのオーダーに対するalphaのオーダー\n",
    "# N = 1000でalpha = 0.001より大きいと結果はほぼ0.5(scale = 10の時、scale= 100にすればこれでもばらつき出る。)\n",
    "alpha = -0.001\n",
    "a = 2\n",
    "b = 2\n",
    "scale = 100;"
   ]
  },
  {
   "cell_type": "markdown",
   "metadata": {},
   "source": [
    "上で述べたこと諸々含めて、10000人ゲーム、alpha = -0.001、scale = 100としてシミュレーションデータを出す。"
   ]
  },
  {
   "cell_type": "code",
   "execution_count": 23,
   "metadata": {
    "collapsed": false
   },
   "outputs": [
    {
     "data": {
      "text/plain": [
       "f (generic function with 1 method)"
      ]
     },
     "execution_count": 23,
     "metadata": {},
     "output_type": "execute_result"
    }
   ],
   "source": [
    "function f(alpha, N, u_t)\n",
    "    function f1(equi)\n",
    "        equi - sum([1/(1 + exp(i + alpha*N*(1-2*equi))) for i in u_t])/N\n",
    "    end\n",
    "end"
   ]
  },
  {
   "cell_type": "code",
   "execution_count": 51,
   "metadata": {
    "collapsed": false
   },
   "outputs": [
    {
     "data": {
      "text/plain": [
       "100-element Array{Float64,1}:\n",
       " 0.506336\n",
       " 0.499351\n",
       " 0.50058 \n",
       " 0.506726\n",
       " 0.498876\n",
       " 0.497944\n",
       " 0.496723\n",
       " 0.498856\n",
       " 0.500295\n",
       " 0.497462\n",
       " 0.500913\n",
       " 0.495866\n",
       " 0.499857\n",
       " ⋮       \n",
       " 0.492888\n",
       " 0.501141\n",
       " 0.501632\n",
       " 0.499662\n",
       " 0.501173\n",
       " 0.497116\n",
       " 0.490983\n",
       " 0.503813\n",
       " 0.502038\n",
       " 0.506117\n",
       " 0.499019\n",
       " 0.494412"
      ]
     },
     "execution_count": 51,
     "metadata": {},
     "output_type": "execute_result"
    }
   ],
   "source": [
    "result = zeros(T)\n",
    "srand(123)\n",
    "beta = Beta(a, b)  \n",
    "u = rand(beta, N*T)\n",
    "u = (reshape(u, (N, T)) - 0.5)*scale;\n",
    "for t in 1:T\n",
    "    u_t = u[:, t]\n",
    "    result[t] = fzero(f(alpha, N, u_t), 10e-5, 1 - 10e-5)\n",
    "end\n",
    "result"
   ]
  },
  {
   "cell_type": "markdown",
   "metadata": {},
   "source": [
    "推定"
   ]
  },
  {
   "cell_type": "code",
   "execution_count": null,
   "metadata": {
    "collapsed": true
   },
   "outputs": [],
   "source": []
  }
 ],
 "metadata": {
  "kernelspec": {
   "display_name": "Julia 0.6.0",
   "language": "julia",
   "name": "julia-0.6"
  },
  "language_info": {
   "file_extension": ".jl",
   "mimetype": "application/julia",
   "name": "julia",
   "version": "0.6.0"
  }
 },
 "nbformat": 4,
 "nbformat_minor": 2
}
