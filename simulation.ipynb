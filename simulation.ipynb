{
 "cells": [
  {
   "cell_type": "code",
   "execution_count": 7,
   "metadata": {
    "collapsed": false
   },
   "outputs": [],
   "source": [
    "using Distributions\n",
    "using Roots"
   ]
  },
  {
   "cell_type": "code",
   "execution_count": 8,
   "metadata": {
    "collapsed": false
   },
   "outputs": [],
   "source": [
    "N = 1000\n",
    "R = 100\n",
    "S = N * R\n",
    "T = 100\n",
    "# 大切なのはNのオーダーに対するalphaのオーダー\n",
    "# N = 1000でalpha = 0.001より大きいと結果はほぼ0.5\n",
    "alpha = -0.001\n",
    "a = 2\n",
    "b = 2;"
   ]
  },
  {
   "cell_type": "markdown",
   "metadata": {},
   "source": [
    "上で述べたこと諸々含めて、1000人ゲーム、alpha = -0.001としてシミュレーションデータを出す。"
   ]
  },
  {
   "cell_type": "code",
   "execution_count": 9,
   "metadata": {
    "collapsed": false
   },
   "outputs": [
    {
     "data": {
      "text/plain": [
       "f (generic function with 1 method)"
      ]
     },
     "execution_count": 9,
     "metadata": {},
     "output_type": "execute_result"
    }
   ],
   "source": [
    "function f(alpha, N, u_t)\n",
    "    function f1(equi)\n",
    "        equi - sum([1/(1 + exp(i + alpha*N*(1-2*equi))) for i in u_t])/N\n",
    "    end\n",
    "end"
   ]
  },
  {
   "cell_type": "code",
   "execution_count": 10,
   "metadata": {
    "collapsed": false,
    "scrolled": true
   },
   "outputs": [
    {
     "data": {
      "text/plain": [
       "100-element Array{Float64,1}:\n",
       " 0.502454\n",
       " 0.499006\n",
       " 0.499987\n",
       " 0.500211\n",
       " 0.501364\n",
       " 0.503017\n",
       " 0.500233\n",
       " 0.498578\n",
       " 0.499851\n",
       " 0.498547\n",
       " 0.500707\n",
       " 0.501935\n",
       " 0.498771\n",
       " ⋮       \n",
       " 0.502113\n",
       " 0.499905\n",
       " 0.498734\n",
       " 0.499551\n",
       " 0.501096\n",
       " 0.501458\n",
       " 0.500891\n",
       " 0.497682\n",
       " 0.498371\n",
       " 0.497559\n",
       " 0.498556\n",
       " 0.498468"
      ]
     },
     "execution_count": 10,
     "metadata": {},
     "output_type": "execute_result"
    }
   ],
   "source": [
    "result = zeros(T)\n",
    "srand(123)\n",
    "beta_dis = Beta(a, b)  \n",
    "u = rand(beta_dis, N*T)\n",
    "u = reshape(u, (N, T)) - 0.5\n",
    "for t in 1:T\n",
    "    u_t = u[:, t]\n",
    "    result[t] = fzero(f(alpha, N, u_t), 10e-5, 1 - 10e-5)\n",
    "end\n",
    "result"
   ]
  },
  {
   "cell_type": "markdown",
   "metadata": {},
   "source": [
    "推定"
   ]
  },
  {
   "cell_type": "code",
   "execution_count": 11,
   "metadata": {
    "collapsed": true
   },
   "outputs": [],
   "source": [
    "srand(1234)\n",
    "beta_dis = Beta(a, b)\n",
    "u = rand(beta_dis, S) - 0.5;"
   ]
  },
  {
   "cell_type": "code",
   "execution_count": 1,
   "metadata": {
    "collapsed": false
   },
   "outputs": [
    {
     "data": {
      "text/plain": [
       "object (generic function with 1 method)"
      ]
     },
     "execution_count": 1,
     "metadata": {},
     "output_type": "execute_result"
    }
   ],
   "source": [
    "function object(a, b, alpha)\n",
    "    be = Beta(a, b)\n",
    "    (sum([((i + 0.5)^(a - 2))*((0.5 - i)^(b - 2))*sum([1/(1 + exp(i + alpha*N*(1 - 2*j))) for j in result])/T for i in u])/(S*6*beta(a, b)) - cdf(be, 0.5))^2\n",
    "end"
   ]
  },
  {
   "cell_type": "code",
   "execution_count": 7,
   "metadata": {
    "collapsed": false
   },
   "outputs": [
    {
     "data": {
      "text/html": [
       "3.804121601295839e-9"
      ],
      "text/plain": [
       "3.804121601295839e-9"
      ]
     },
     "execution_count": 7,
     "metadata": {},
     "output_type": "execute_result"
    }
   ],
   "source": [
    "# 真の値を入れれば極めて小さくなる。\n",
    "object(a, b, alpha)"
   ]
  },
  {
   "cell_type": "markdown",
   "metadata": {},
   "source": [
    "こいつを最小化する"
   ]
  },
  {
   "cell_type": "code",
   "execution_count": 14,
   "metadata": {
    "collapsed": false
   },
   "outputs": [],
   "source": [
    "using JuMP\n",
    "using Gurobi"
   ]
  },
  {
   "cell_type": "code",
   "execution_count": 15,
   "metadata": {
    "collapsed": false
   },
   "outputs": [
    {
     "data": {
      "text/latex": [
       "$$ \\begin{alignat*}{1}\\min\\quad & 0\\\\\n",
       "\\text{Subject to} \\quad\\end{alignat*}\n",
       " $$"
      ],
      "text/plain": [
       "Feasibility problem with:\n",
       " * 0 linear constraints\n",
       " * 0 variables\n",
       "Solver is default solver"
      ]
     },
     "execution_count": 15,
     "metadata": {},
     "output_type": "execute_result"
    }
   ],
   "source": [
    "m = Model()"
   ]
  },
  {
   "cell_type": "code",
   "execution_count": 16,
   "metadata": {
    "collapsed": false
   },
   "outputs": [],
   "source": [
    "JuMP.register(m, :object, 3, object, autodiff=true)"
   ]
  },
  {
   "cell_type": "code",
   "execution_count": 17,
   "metadata": {
    "collapsed": false
   },
   "outputs": [],
   "source": [
    "@variable(m, x>=0)\n",
    "@variable(m, y>=0)\n",
    "@variable(m, z<=0)\n",
    "@NLobjective(m, Min, object(x, y, z))"
   ]
  },
  {
   "cell_type": "code",
   "execution_count": 18,
   "metadata": {
    "collapsed": false
   },
   "outputs": [
    {
     "name": "stdout",
     "output_type": "stream",
     "text": [
      "Min object(x, y, z)\n",
      "Subject to\n",
      " x ≥ 0\n",
      " y ≥ 0\n",
      " z ≤ 0\n"
     ]
    }
   ],
   "source": [
    "print(m)"
   ]
  },
  {
   "cell_type": "code",
   "execution_count": 19,
   "metadata": {
    "collapsed": false
   },
   "outputs": [
    {
     "ename": "LoadError",
     "evalue": "\u001b[91mNo solver was provided. JuMP has classified this model as NLP. Julia packages which provide solvers for this class of problems include Ipopt, KNITRO, and Mosek. The solver must be specified by using either the \"solver=\" keyword argument to \"Model()\" or the \"setsolver()\" method.\u001b[39m",
     "output_type": "error",
     "traceback": [
      "\u001b[91mNo solver was provided. JuMP has classified this model as NLP. Julia packages which provide solvers for this class of problems include Ipopt, KNITRO, and Mosek. The solver must be specified by using either the \"solver=\" keyword argument to \"Model()\" or the \"setsolver()\" method.\u001b[39m",
      "",
      "Stacktrace:",
      " [1] \u001b[1mno_solver_error\u001b[22m\u001b[22m\u001b[1m(\u001b[22m\u001b[22m::JuMP.ProblemTraits\u001b[1m)\u001b[22m\u001b[22m at \u001b[1m/Users/susu/.julia/v0.6/JuMP/src/solvers.jl:84\u001b[22m\u001b[22m",
      " [2] \u001b[1m#build#119\u001b[22m\u001b[22m\u001b[1m(\u001b[22m\u001b[22m::Bool, ::Bool, ::JuMP.ProblemTraits, ::Function, ::JuMP.Model\u001b[1m)\u001b[22m\u001b[22m at \u001b[1m/Users/susu/.julia/v0.6/JuMP/src/solvers.jl:298\u001b[22m\u001b[22m",
      " [3] \u001b[1m(::JuMP.#kw##build)\u001b[22m\u001b[22m\u001b[1m(\u001b[22m\u001b[22m::Array{Any,1}, ::JuMP.#build, ::JuMP.Model\u001b[1m)\u001b[22m\u001b[22m at \u001b[1m./<missing>:0\u001b[22m\u001b[22m",
      " [4] \u001b[1m#solve#116\u001b[22m\u001b[22m\u001b[1m(\u001b[22m\u001b[22m::Bool, ::Bool, ::Bool, ::Array{Any,1}, ::Function, ::JuMP.Model\u001b[1m)\u001b[22m\u001b[22m at \u001b[1m/Users/susu/.julia/v0.6/JuMP/src/solvers.jl:168\u001b[22m\u001b[22m",
      " [5] \u001b[1msolve\u001b[22m\u001b[22m\u001b[1m(\u001b[22m\u001b[22m::JuMP.Model\u001b[1m)\u001b[22m\u001b[22m at \u001b[1m/Users/susu/.julia/v0.6/JuMP/src/solvers.jl:150\u001b[22m\u001b[22m"
     ]
    }
   ],
   "source": [
    "status = solve(m)"
   ]
  },
  {
   "cell_type": "code",
   "execution_count": null,
   "metadata": {
    "collapsed": true
   },
   "outputs": [],
   "source": []
  }
 ],
 "metadata": {
  "kernelspec": {
   "display_name": "Julia 0.6.0",
   "language": "julia",
   "name": "julia-0.6"
  },
  "language_info": {
   "file_extension": ".jl",
   "mimetype": "application/julia",
   "name": "julia",
   "version": "0.6.0"
  }
 },
 "nbformat": 4,
 "nbformat_minor": 2
}
