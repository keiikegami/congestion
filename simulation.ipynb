{
 "cells": [
  {
   "cell_type": "code",
   "execution_count": 1,
   "metadata": {
    "collapsed": false
   },
   "outputs": [],
   "source": [
    "using Distributions\n",
    "using Roots"
   ]
  },
  {
   "cell_type": "code",
   "execution_count": 20,
   "metadata": {
    "collapsed": false
   },
   "outputs": [],
   "source": [
    "N = 100\n",
    "R = 100\n",
    "S = N * R\n",
    "T = 100\n",
    "simnum = 20\n",
    "alpha = -0.01\n",
    "a = 2\n",
    "b = 2;"
   ]
  },
  {
   "cell_type": "code",
   "execution_count": 3,
   "metadata": {
    "collapsed": false
   },
   "outputs": [],
   "source": [
    "beta = Beta(a, b)  \n",
    "u = rand(beta, N*T)\n",
    "u = reshape(u, (N, T)) - 0.5;"
   ]
  },
  {
   "cell_type": "code",
   "execution_count": 14,
   "metadata": {
    "collapsed": false
   },
   "outputs": [
    {
     "data": {
      "text/plain": [
       "f (generic function with 1 method)"
      ]
     },
     "execution_count": 14,
     "metadata": {},
     "output_type": "execute_result"
    }
   ],
   "source": [
    "function f(alpha, N, u_t)\n",
    "    function f1(equi)\n",
    "        equi - sum([1/(1 + exp(i + alpha*N*(1-2*equi))) for i in u_t])/N\n",
    "    end\n",
    "end"
   ]
  },
  {
   "cell_type": "code",
   "execution_count": 21,
   "metadata": {
    "collapsed": true
   },
   "outputs": [],
   "source": [
    "result = zeros(T)\n",
    "box = zeros((simnum, T))\n",
    "for n in 1:simnum\n",
    "    srand(n)\n",
    "    beta = Beta(a, b)  \n",
    "    u = rand(beta, N*T)\n",
    "    u = reshape(u, (N, T)) - 0.5\n",
    "    for t in 1:T\n",
    "        u_t = u[:, t]\n",
    "        result[t] = fzero(f(alpha, N, u_t), 10e-5, 1 - 10e-5)\n",
    "    end\n",
    "    box[n, :] = result\n",
    "end"
   ]
  },
  {
   "cell_type": "code",
   "execution_count": 22,
   "metadata": {
    "collapsed": false
   },
   "outputs": [
    {
     "data": {
      "text/plain": [
       "100-element Array{Float64,1}:\n",
       " 0.504883\n",
       " 0.510071\n",
       " 0.495492\n",
       " 0.508687\n",
       " 0.502168\n",
       " 0.505009\n",
       " 0.502862\n",
       " 0.499687\n",
       " 0.496815\n",
       " 0.500081\n",
       " 0.502337\n",
       " 0.500221\n",
       " 0.499474\n",
       " ⋮       \n",
       " 0.50781 \n",
       " 0.49754 \n",
       " 0.503124\n",
       " 0.490396\n",
       " 0.508746\n",
       " 0.494697\n",
       " 0.49261 \n",
       " 0.503829\n",
       " 0.498591\n",
       " 0.503703\n",
       " 0.504784\n",
       " 0.504223"
      ]
     },
     "execution_count": 22,
     "metadata": {},
     "output_type": "execute_result"
    }
   ],
   "source": [
    "# alphaが小さい方が大きくぶれるね。（当たり前）\n",
    "box[1, :]"
   ]
  },
  {
   "cell_type": "markdown",
   "metadata": {},
   "source": [
    "上で求めた均衡を元に、選択確率を計算し、データをシミュレート"
   ]
  },
  {
   "cell_type": "code",
   "execution_count": null,
   "metadata": {
    "collapsed": true
   },
   "outputs": [],
   "source": []
  }
 ],
 "metadata": {
  "kernelspec": {
   "display_name": "Julia 0.6.0",
   "language": "julia",
   "name": "julia-0.6"
  },
  "language_info": {
   "file_extension": ".jl",
   "mimetype": "application/julia",
   "name": "julia",
   "version": "0.6.0"
  }
 },
 "nbformat": 4,
 "nbformat_minor": 2
}
